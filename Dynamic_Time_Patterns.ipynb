{
 "cells": [
  {
   "cell_type": "markdown",
   "metadata": {},
   "source": [
    "# Table of Contents\n",
    "- [Dynamic Time Patterns for Algorithmic Trading using machine learning](#dynamic-time-patterns-for-algorithmic-trading-using-machine-learning)\n",
    "  - [Setup and Preprocessing](#setup-and-preprocessing)\n",
    "  - [Math Behind the Algorithm](#math)\n",
    "    - [Distance Metrics](#distance-metrics)  \n",
    "    - [K Nearest Neighbor Algorithm](#k-nearest-neighbor-algorithm)\n",
    "  - [Simple Backtest](#simple-backtest-of-forecast-predictions)\n",
    "    - [Backtest Strategy](#backtest-strategy)\n",
    "  - [Results and Visualization](#results-and-visualization)  \n",
    "  - [Conclusion](#conclusion)"
   ]
  },
  {
   "cell_type": "markdown",
   "metadata": {},
   "source": [
    "# Dynamic Time Patterns for Algorithmic Trading using machine learning\n",
    "\n",
    "This project explores time series forecasting in algorithmic trading using KNN clustering with various distance metrics. The objective is to evaluate which metric achieves the highest accuracy in predicting volatility-adjusted returns using NMAE. Additionally, a simple backtesting strategy is implemented and assessed through financial metrics such as Sharpe ratio and maximum drawdown.\n"
   ]
  },
  {
   "cell_type": "markdown",
   "metadata": {},
   "source": [
    "## Setup and Preprocessing\n",
    "To run algorithm, import libraries, and initialize data. \n",
    "\n",
    "The time-interval used (1-month of data) and the parameters, make the algorithm/predictions take roughly 20 minutes.\n",
    "\n"
   ]
  },
  {
   "cell_type": "markdown",
   "metadata": {},
   "source": [
    "### Enviornment Setup\n",
    "Install the required libraries using:"
   ]
  },
  {
   "cell_type": "code",
   "execution_count": 10,
   "metadata": {},
   "outputs": [
    {
     "name": "stdout",
     "output_type": "stream",
     "text": [
      "Requirement already satisfied: numpy in c:\\users\\krist\\anaconda3\\lib\\site-packages (1.26.4)\n",
      "Requirement already satisfied: pandas in c:\\users\\krist\\anaconda3\\lib\\site-packages (2.2.2)\n",
      "Requirement already satisfied: matplotlib in c:\\users\\krist\\anaconda3\\lib\\site-packages (3.9.2)\n",
      "Requirement already satisfied: fastdtw in c:\\users\\krist\\anaconda3\\lib\\site-packages (0.3.4)\n",
      "Requirement already satisfied: scikit-learn in c:\\users\\krist\\anaconda3\\lib\\site-packages (1.5.1)\n",
      "Requirement already satisfied: python-dateutil>=2.8.2 in c:\\users\\krist\\anaconda3\\lib\\site-packages (from pandas) (2.9.0.post0)\n",
      "Requirement already satisfied: pytz>=2020.1 in c:\\users\\krist\\anaconda3\\lib\\site-packages (from pandas) (2024.1)\n",
      "Requirement already satisfied: tzdata>=2022.7 in c:\\users\\krist\\anaconda3\\lib\\site-packages (from pandas) (2023.3)\n",
      "Requirement already satisfied: contourpy>=1.0.1 in c:\\users\\krist\\anaconda3\\lib\\site-packages (from matplotlib) (1.2.0)\n",
      "Requirement already satisfied: cycler>=0.10 in c:\\users\\krist\\anaconda3\\lib\\site-packages (from matplotlib) (0.11.0)\n",
      "Requirement already satisfied: fonttools>=4.22.0 in c:\\users\\krist\\anaconda3\\lib\\site-packages (from matplotlib) (4.51.0)\n",
      "Requirement already satisfied: kiwisolver>=1.3.1 in c:\\users\\krist\\anaconda3\\lib\\site-packages (from matplotlib) (1.4.4)\n",
      "Requirement already satisfied: packaging>=20.0 in c:\\users\\krist\\anaconda3\\lib\\site-packages (from matplotlib) (24.1)\n",
      "Requirement already satisfied: pillow>=8 in c:\\users\\krist\\anaconda3\\lib\\site-packages (from matplotlib) (10.4.0)\n",
      "Requirement already satisfied: pyparsing>=2.3.1 in c:\\users\\krist\\anaconda3\\lib\\site-packages (from matplotlib) (3.1.2)\n",
      "Requirement already satisfied: scipy>=1.6.0 in c:\\users\\krist\\anaconda3\\lib\\site-packages (from scikit-learn) (1.13.1)\n",
      "Requirement already satisfied: joblib>=1.2.0 in c:\\users\\krist\\anaconda3\\lib\\site-packages (from scikit-learn) (1.4.2)\n",
      "Requirement already satisfied: threadpoolctl>=3.1.0 in c:\\users\\krist\\anaconda3\\lib\\site-packages (from scikit-learn) (3.5.0)\n",
      "Requirement already satisfied: six>=1.5 in c:\\users\\krist\\anaconda3\\lib\\site-packages (from python-dateutil>=2.8.2->pandas) (1.16.0)\n",
      "Note: you may need to restart the kernel to use updated packages.\n"
     ]
    }
   ],
   "source": [
    "pip install numpy pandas matplotlib fastdtw scikit-learn"
   ]
  },
  {
   "cell_type": "code",
   "execution_count": 11,
   "metadata": {},
   "outputs": [],
   "source": [
    "import pandas as pd\n",
    "import numpy as np\n",
    "import matplotlib.pyplot as plt\n",
    "from fastdtw import fastdtw\n",
    "from sklearn.neighbors import NearestNeighbors"
   ]
  },
  {
   "cell_type": "markdown",
   "metadata": {},
   "source": [
    "### Data Collection\n",
    "For this project, high-frequency forex data has been used, soruced from Metatrader.\n",
    "\n",
    "It is downloaded as 1 minute data, which is being changed to 5-minute intervals, where the Closing price of the asset will be used for the return. The data has the Time, Open, High, Low and Closing price.\n",
    "\n",
    "In the case of the example of the algorithm, the GBP/USD data is used, with the time period March 1, 2021 00:00 to march 31, 2021 23:55."
   ]
  },
  {
   "cell_type": "code",
   "execution_count": 12,
   "metadata": {},
   "outputs": [
    {
     "name": "stdout",
     "output_type": "stream",
     "text": [
      "                        Open     High      Low    Close\n",
      "Time                                                   \n",
      "2021-03-31 16:55:00  1.37838  1.37848  1.37788  1.37791\n",
      "2021-03-31 17:00:00  1.37792  1.37816  1.37759  1.37809\n",
      "2021-03-31 17:05:00  1.37808  1.37840  1.37787  1.37787\n",
      "2021-03-31 17:10:00  1.37802  1.37802  1.37794  1.37795\n",
      "2021-03-31 17:15:00  1.37795  1.37801  1.37794  1.37798\n"
     ]
    }
   ],
   "source": [
    "df = pd.read_csv(\"gbp_usd_5min.csv\", parse_dates=[\"Time\"])\n",
    "\n",
    "# Sort the index to ensure monotonicity\n",
    "df.set_index(\"Time\", inplace=True)\n",
    "df = df.sort_index()\n",
    "\n",
    "# date-range of data that will be used\n",
    "start_date = \"2021-03-01 00:00\"\n",
    "end_date = \"2021-03-31 17:15\"\n",
    "\n",
    "# Define range of df to be used based on dates\n",
    "df = df.loc[start_date:end_date]\n",
    "\n",
    "print(df.tail())\n"
   ]
  },
  {
   "cell_type": "markdown",
   "metadata": {},
   "source": [
    "### data preprocessing"
   ]
  },
  {
   "cell_type": "markdown",
   "metadata": {},
   "source": [
    "Checking for missing values:"
   ]
  },
  {
   "cell_type": "code",
   "execution_count": 13,
   "metadata": {},
   "outputs": [
    {
     "name": "stdout",
     "output_type": "stream",
     "text": [
      "Open     0\n",
      "High     0\n",
      "Low      0\n",
      "Close    0\n",
      "dtype: int64\n"
     ]
    }
   ],
   "source": [
    "print(df.isna().sum())\n"
   ]
  },
  {
   "cell_type": "markdown",
   "metadata": {},
   "source": [
    "Logarithmic returns are computed based on closing price at time $t$ divided by closing price at time $t+1$."
   ]
  },
  {
   "cell_type": "code",
   "execution_count": 14,
   "metadata": {},
   "outputs": [],
   "source": [
    "df[\"returns\"] = np.log(df[\"Close\"] / df[\"Close\"].shift(1))\n",
    "df.dropna(inplace=True)"
   ]
  },
  {
   "cell_type": "markdown",
   "metadata": {},
   "source": [
    "#### Smoothing Returns Using Exponential Moving Average\n",
    "\n",
    "The returns are smoothed using exponential moving average.\n",
    "The Exponential Moving Average (EMA) is a weighted moving average that gives more significance to recent data points, making it more responsive to price changes compared to a simple moving average (SMA). \n",
    "\n",
    "##### Formula:\n",
    "$\n",
    "EMA_t = \\alpha \\cdot R_t + (1 - \\alpha) \\cdot EMA_{t-1}\n",
    "$\n",
    "\n",
    "where:\n",
    "- $ EMA_t $ is the exponential moving average at time $ t $,\n",
    "- $ R_t $ is the return at time \\( t \\),\n",
    "- $ \\alpha $ is the smoothing factor, calculated as:\n",
    "  $\n",
    "  \\alpha = \\frac{2}{span + 1}\n",
    "  $\n",
    "- $ span $ is the chosen period for smoothing.\n",
    "\n",
    "The smoothing factor $ \\alpha $ determines how much weight recent returns receive. A higher $ \\alpha $ (lower span) makes the EMA react more to new data, while a lower $ \\alpha $ (higher span) results in a smoother curve. [1]\n",
    "\n",
    "The implementation in python is as followed:"
   ]
  },
  {
   "cell_type": "code",
   "execution_count": 15,
   "metadata": {},
   "outputs": [
    {
     "name": "stdout",
     "output_type": "stream",
     "text": [
      "Time\n",
      "2021-03-01 00:05:00    0.000007\n",
      "2021-03-01 00:10:00    0.000052\n",
      "2021-03-01 00:15:00    0.000035\n",
      "2021-03-01 00:20:00    0.000022\n",
      "2021-03-01 00:25:00    0.000031\n",
      "Name: ema_returns, dtype: float64\n"
     ]
    }
   ],
   "source": [
    "def apply_ema(series, span):\n",
    "    return series.ewm(span=span, adjust=False).mean()\n",
    "\n",
    "df[\"ema_returns\"] = apply_ema(df[\"returns\"], span=15)\n",
    "df.dropna(inplace=True)\n",
    "print(df[\"ema_returns\"].head())"
   ]
  },
  {
   "cell_type": "markdown",
   "metadata": {},
   "source": [
    "To validate the function’s correctness (and to show the formula calculation in python), the EMA of return 100 is calculated and compared to the output from apply_ema():"
   ]
  },
  {
   "cell_type": "code",
   "execution_count": 16,
   "metadata": {},
   "outputs": [
    {
     "name": "stdout",
     "output_type": "stream",
     "text": [
      "🎉🎉🎉\n",
      "Manual EMA: -0.00019552803368233756\n",
      "apply_ema() EMA: -0.00019552803368233756\n"
     ]
    }
   ],
   "source": [
    "span = 15\n",
    "EMA_return_100 = 2/(span+1) * df[\"returns\"].iloc[100] + (1 - 2/(span+1)) * df[\"ema_returns\"].iloc[99]\n",
    "if EMA_return_100 == df.iloc[100][\"ema_returns\"]:\n",
    "    print(\"🎉🎉🎉\")\n",
    "print(\"Manual EMA:\", EMA_return_100)\n",
    "print(\"apply_ema() EMA:\", df[\"ema_returns\"].iloc[100])"
   ]
  },
  {
   "cell_type": "markdown",
   "metadata": {},
   "source": [
    "#### Standardizing EMA Returns Using Rolling Standard Deviation\n",
    "Standardization is used to normalize data by adjusting for variations in scale and volatility, making it easier to compare values across different time, allowing the detection of regime shifts.\n",
    "\n",
    "$\n",
    "\\sigma_t = \\sqrt{\\frac{1}{w} \\sum_{i=t-w+1}^{t} (EMA_i - \\bar{EMA})^2}\n",
    "$\n",
    "\n",
    "where:\n",
    "\n",
    "- $ \\sigma_t $ is the rolling standard deviation at time $ t $,\n",
    "- $ EMA_i $ are the exponential moving averages within the window,\n",
    "- $ \\bar{EMA} $ is the mean EMA within the window,\n",
    "- $ w $ is the window size.\n",
    "\n",
    "standardize the EMA returns:\n",
    "\n",
    "$\n",
    "EMA_{std,t} = \\frac{EMA_t}{\\sigma_t}\n",
    "$\n",
    "\n",
    "In this case the window is 120.\n",
    "\n",
    "The implementation in python is as followed:"
   ]
  },
  {
   "cell_type": "code",
   "execution_count": 17,
   "metadata": {},
   "outputs": [],
   "source": [
    "window_size = 120\n",
    "df[\"rolling_std\"] = df[\"ema_returns\"].rolling(window=window_size, min_periods=1).std()\n",
    "df[\"rolling_std\"] = df[\"rolling_std\"].fillna(df[\"rolling_std\"].mean())\n",
    "df[\"ema_returns_std\"] = df[\"ema_returns\"] / df[\"rolling_std\"]\n",
    "df.dropna(inplace=True)\n"
   ]
  },
  {
   "cell_type": "code",
   "execution_count": 18,
   "metadata": {},
   "outputs": [
    {
     "name": "stdout",
     "output_type": "stream",
     "text": [
      "5.335501904526235\n",
      "-5.087566660043141\n",
      "0.00045468557104647077\n",
      "-0.00039797512389973385\n"
     ]
    }
   ],
   "source": [
    "print(df[\"ema_returns_std\"].max())\n",
    "print(df[\"ema_returns_std\"].min())\n",
    "print(df[\"ema_returns\"].max())\n",
    "print(df[\"ema_returns\"].min())"
   ]
  },
  {
   "cell_type": "markdown",
   "metadata": {},
   "source": [
    "Volatility-adjusted, Standardized EMA returns roughly range between ±5.\n",
    "\n",
    "Non-standardized EMA returns are approximately between ±0.0004, which is very low in magnitude."
   ]
  },
  {
   "cell_type": "markdown",
   "metadata": {},
   "source": [
    "## Algorithm and Mathematical Foundation\n",
    "\n",
    "The core of this project is a k-Nearest Neighbors (kNN) model applied to time series forecasting. By identifying the closest historical patterns, one can predict future returns\n",
    "\n",
    "These predictions accuracy will be assessed using NMAE, comparing the different distance metrics used in KNN."
   ]
  },
  {
   "cell_type": "markdown",
   "metadata": {},
   "source": [
    "### Introduction to K-Nearest-Neighbor Algorithm"
   ]
  },
  {
   "cell_type": "markdown",
   "metadata": {},
   "source": [
    "KNN algorithm is commonly used for classifying data points, but can also be applied to time series forecasting by identifying the most similar past sequences.\n",
    "\n",
    "KNN works by directly comparing a new data point to historical examples, finding the k most similar instances (neighbors) based on a distance metric, such as Euclidean distance.\n",
    "\n",
    "Imagine a brokerage firm wants to predict if a new investor is likely to sell their shares of Apple (AAPL) within the next month based on their trading history. They use KNN by looking at a dataset of past investors, where each is represented by a vector of the features: Number of trades in pas 30 days, average holding period, and portfolio size. For a new investor with 5 trades, a 10-day average hold, and a \\$10,000 portfolio, KNN finds the 5 most similar past investors. If three of those sold AAPL within a month, the algorithm predicts this new investor is likely to dump their shares too.\n",
    "\n",
    "In this case, KNN doesn’t rely on clusters or predefined groups—it’s all about proximity in the feature space. The choice of k (here, 5) balances between overfitting (too small a k) and smoothing out patterns (too large a k).\n",
    "\n"
   ]
  },
  {
   "cell_type": "markdown",
   "metadata": {},
   "source": [
    "#### K-Means Clustering\n",
    "A different algorithm, but very much alike, is the K-Means Algorithm. Instead of using a datapoint, finding nearest datapoints, quantifying a classification, centroid will be randomly placed, clustering the data.\n",
    "\n",
    "A use case of this is Economic Segmentation:\n",
    "A central bank wants to classify countries based on their economic stability to guide monetary policy decisions. It collects data on:\n",
    "\n",
    "- GDP Growth Rate (%)\n",
    "\n",
    "- Inflation Rate (%)\n",
    "\n",
    "- Unemployment Rate (%)\n",
    "\n",
    "- Foreign Exchange Reserves (in billion USD)\n",
    "\n",
    "Using K-Means, the algorithm clusters countries into three economic categories:\n",
    "\n",
    "1. Stable Economies – Low inflation, steady GDP growth, low unemployment, and high reserves.\n",
    "\n",
    "2. Emerging Markets – High GDP growth but moderate inflation and unemployment, with moderate forex reserves.\n",
    "\n",
    "3. Struggling Economies – High unemployment, high inflation, slow GDP growth, and low reserves.\n",
    "\n",
    "This clustering helps policymakers adjust interest rates, set exchange rate policies, or provide financial aid to struggling economies."
   ]
  },
  {
   "attachments": {
    "image.png": {
     "image/png": "[encoded data removed]"
    }
   },
   "cell_type": "markdown",
   "metadata": {},
   "source": [
    "![image.png](attachment:image.png)"
   ]
  },
  {
   "cell_type": "markdown",
   "metadata": {},
   "source": [
    "The image above is taken from my project @ https://kristofferjoha.github.io/ClusteringAlgos/, which visualizes the k-means algorithm. (can be slow due to grid resolution)\n",
    "\n",
    "After having placed centroids, it iterates over the distances and clusters the datapoint, aiming for the shortest avg. distance to each datapoint.\n",
    "\n",
    "To reference back to K-Nearest-Neighbour, if one imagines that the centroids (black outline) are datapoints in the KNN algorithm. You find the k-nearest datapoints and find the avg. value of what you are trying to predict. In the case of this algorithm, Dynamic Time Patterns, it would be Standardized EMA returns."
   ]
  },
  {
   "cell_type": "markdown",
   "metadata": {},
   "source": [
    "### Distance Metrics for Time Series Forecasting with kNN\n",
    "When using k-Nearest Neighbors (kNN) for time series forecasting, the choice of distance metric is crucial. Since time series data contains temporal dependencies, standard measures like Euclidean distance may not always be effective.\n",
    "\n",
    "Below are four commonly used distance metrics for comparing time series in forecasting models:\n",
    "\n",
    "- Euclidean distance\n",
    "\n",
    "- Dynamic Time Warping (DTW)\n",
    "\n",
    "- Average Squared Distance (ASD)\n",
    "\n",
    "- Complexity-Invariant Distance (CID) \n",
    "\n",
    "Euclidean distance is the simplest and most commonly used, but more advanced metrics like DTW are better suited when time series exhibit shifts in timing or volatility. [2]"
   ]
  },
  {
   "cell_type": "markdown",
   "metadata": {},
   "source": [
    "#### Euclidean distance\n",
    "\n",
    "Euclidean measures the straight-line distance between two sequences of equal length, summing up the squared differences between corresponding points. [3]\n",
    "\n",
    "##### Formula\n",
    "\n",
    "Given two time series: $ X=(x_1, x_2, ...,x_n ) $ and $ =(y_1, y_2, ...,y_n)$, the distance between the two time series is:\n",
    "\n",
    "$D(X, Y) = \\sqrt{\\sum_{i=1}^{n} (x_i - y_i)^2}$\n",
    "\n",
    "- $x_i$ and $y_i$ are the values of the time series at the i-th element\n",
    "- n is length of time series\n",
    "\n",
    "This is a fairly simple formula and can be implemented in python the following way:"
   ]
  },
  {
   "cell_type": "code",
   "execution_count": 8,
   "metadata": {},
   "outputs": [
    {
     "name": "stdout",
     "output_type": "stream",
     "text": [
      "Euclidean Distance: 4.47213595499958\n",
      "Euclidean Distance Pythagoras: 5.0\n"
     ]
    }
   ],
   "source": [
    "import numpy as np\n",
    "\n",
    "# Defining two series\n",
    "X = np.array([3,4,5,6])\n",
    "Y = np.array([6,5,4,3])\n",
    "X_easy = np.array([1, 2])\n",
    "Y_easy = np.array([4, 6])\n",
    "\n",
    "# Eucledean Distance\n",
    "distance = np.sqrt(np.sum((X - Y)**2))\n",
    "distance_easy = np.sqrt(np.sum((X_easy - Y_easy)**2))\n",
    "\n",
    "print(\"Euclidean Distance:\", distance)\n",
    "print(\"Euclidean Distance Pythagoras:\", distance_easy)\n"
   ]
  },
  {
   "cell_type": "markdown",
   "metadata": {},
   "source": [
    "The \"Pythagoras\" example is included because it is easy to relate to. The distance between the points P(1,2) and P(4,6) is 5, based on the Pythagorean theorem where side lengths 3 and 4 give a hypotenuse length of 5."
   ]
  },
  {
   "attachments": {
    "image.png": {
     "image/png": "[encoded data removed]"
    }
   },
   "cell_type": "markdown",
   "metadata": {},
   "source": [
    "![image.png](attachment:image.png)"
   ]
  },
  {
   "cell_type": "markdown",
   "metadata": {},
   "source": [
    "The picture from [4] shows euclidean distance for a time series. It compares each element with the corresponding value. The important thing here is that, as mentioned, the length of the two series must be equal."
   ]
  },
  {
   "cell_type": "markdown",
   "metadata": {},
   "source": [
    "#### Dynamic Time Warping (DTW)\n",
    "DTW is a more flexible measure of distance between two time series, especially when they may be out of phase or have varying lengths. Unlike Euclidean distance, which assumes that the corresponding points in two sequences match up directly, DTW allows for the alignment of time series in a non-linear fashion.\n",
    "\n",
    "DTW computes the minimum cumulative distance between two sequences by \"warping\" them to align the most similar points. This is done by comparing each element of one series with several elements of the other series, allowing for shifting, stretching, and compressing the time axis.\n",
    "\n",
    "DTW has some steps to it [5]:\n",
    "\n",
    "- Step 1: Distance Matrix construction\n",
    "Use euclidean or other metric to construct a distance matrix between the two sequences.\n",
    "\n",
    "$D(i,j)=dist(x_i,y_j)$\n",
    "\n",
    "$$\n",
    "D= \\begin{pmatrix}\n",
    "  dist(x_1,y_1) & dist(x_1,y_2) & ... & dist(x_1,y_m) \\\\\n",
    "  dist(x_2,y_1) & dist(x_2,y_2) & ... & dist(x_2,y_m) \\\\\n",
    "  \\vdots & \\vdots & \\ddots & \\vdots \\\\\n",
    "  dist(x_n,y_1) & dist(x_n,y_2) & ... & dist(x_n,y_m)\n",
    "\\end{pmatrix}\n",
    "$$\n",
    "\n",
    "- Step 2: Cumulative Cost Matrix\n",
    "Next step is to calculate the cumulative cost matrix, which keeps track of the minimum cumulative distance at each point, considering all previous points in both sequences\n",
    "\n",
    "Based on the distance matrix D, the cost for each point (i,j) is the $x_i $ and $y_j$ distance, plus the minimum cumulative distance from previous step.\n",
    "\n",
    "The recursive formula is as followed:\n",
    "\n",
    "$D(i,j)=dist(x_i,y_j) + min(C(i-1,j),C(i,j-1),C(i-1,j-1))$\n",
    "\n",
    "- $C(i-1,j)$ represents vertical movement\n",
    "- $C(i,j-1)$ represents horizontal movement\n",
    "- $C(i-1,j-1)$ represents diagonal movement\n",
    "\n",
    "\n",
    "$$\n",
    "C= \\begin{pmatrix}\n",
    "  C(1,1) & C(1,2) & ... & C(1,m) \\\\\n",
    "  C(2,1) & C(2,2) & ... & C(2,m) \\\\\n",
    "  \\vdots & \\vdots & \\ddots & \\vdots \\\\\n",
    "  C(n,1) & C(n,2) & ... & C(n,m)\n",
    "\\end{pmatrix}\n",
    "$$\n",
    "\n",
    "The value for $(n,m)$ gives total comulative distance between two time series with best alignment.\n",
    "\n",
    "- Step 3: path finding\n",
    "\n",
    "With the comulative cost matrix C, it is time to find the optimal warping path. This means finding the path from C(n,m) to C(1,1) by following the minimum values.\n",
    "\n",
    "This is done by moving one step at a vertically, horizontally, or diagonally based on minimum cost.\n",
    "\n",
    "- Step 4: DTW Distance Calculation\n",
    "\n",
    "The DTW distance is that which gives the minimum comulative cost to align the two time series."
   ]
  },
  {
   "attachments": {
    "image.png": {
     "image/png": "[encoded data removed]"
    }
   },
   "cell_type": "markdown",
   "metadata": {},
   "source": [
    "![image.png](attachment:image.png)"
   ]
  },
  {
   "cell_type": "markdown",
   "metadata": {},
   "source": [
    "The picture from [4] shows Dynamic type warping distance for a time series. Two time series with different length are being compressed and streched to fit optimally with one another.\n",
    "\n",
    "fastdtw, an approximate Dynamic Time Warping algorithm, will be used for the dynamic time warping for this project.\n",
    "\n"
   ]
  },
  {
   "cell_type": "markdown",
   "metadata": {},
   "source": [
    "#### Average Squared Distance (ASD) \n",
    "The ASD is similar to Euclidean distance, but instead of taking the square root of the sum of the squared differences, the sum of the squared differences is calculated and divided by the length of the time series.\n",
    "\n",
    "##### Formula\n",
    "Given two time series: $ X=(x_1, x_2, ...,x_n ) $ and $ =(y_1, y_2, ...,y_n)$, the distance between the two time series is:\n",
    "\n",
    "$ASD(X, Y) = \\frac{1}{n}\\sum_{i=1}^{n} (x_i - y_i)^2$\n",
    "\n",
    "- $x_i$ and $y_i$ are the values of the time series at the i-th element\n",
    "- n is length of time series\n",
    "\n",
    "This is also a fairly simple formula and can be implemented in python the following way:"
   ]
  },
  {
   "cell_type": "code",
   "execution_count": 9,
   "metadata": {},
   "outputs": [
    {
     "name": "stdout",
     "output_type": "stream",
     "text": [
      "Average Squared Distance: 5.0\n"
     ]
    }
   ],
   "source": [
    "import numpy as np\n",
    "\n",
    "# Defining two series\n",
    "X = np.array([3,4,5,6])\n",
    "Y = np.array([6,5,4,3])\n",
    "\n",
    "# ASD calculation\n",
    "asd = np.mean((X - Y)**2)\n",
    "\n",
    "print(\"Average Squared Distance:\", asd)"
   ]
  },
  {
   "cell_type": "markdown",
   "metadata": {},
   "source": [
    "Given the same two series as in the euclidean distance, it can be seen that the results differ. Outliers are more impactful in ASD."
   ]
  },
  {
   "cell_type": "markdown",
   "metadata": {},
   "source": [
    "#### Complexity-Invariant Distance\n",
    "\n"
   ]
  },
  {
   "cell_type": "markdown",
   "metadata": {},
   "source": [
    "### KNN implementation"
   ]
  },
  {
   "cell_type": "code",
   "execution_count": null,
   "metadata": {},
   "outputs": [],
   "source": [
    "def dtw_metric(x, y):\n",
    "    distance, _ = fastdtw(x, y)\n",
    "    return distance\n",
    "\n",
    "def cid_metric(x, y):\n",
    "    ce_x = np.sqrt(np.sum(np.diff(x) ** 2))\n",
    "    ce_y = np.sqrt(np.sum(np.diff(y) ** 2))\n",
    "    base_dist = np.sqrt(np.sum((x - y) ** 2))\n",
    "    cf = max(ce_x, ce_y) / min(ce_x, ce_y) if min(ce_x, ce_y) > 0 else 1.0\n",
    "    return base_dist * cf \n",
    "\n",
    "def asd_metric(x, y):\n",
    "    return np.mean((x - y) ** 2) if len(x) == len(y) else float('inf')"
   ]
  },
  {
   "cell_type": "code",
   "execution_count": null,
   "metadata": {},
   "outputs": [],
   "source": [
    "def knn_forecast(series, window_size=240, embed_size=15, k=20, metric=asd_metric):\n",
    "    predictions = []\n",
    "    for i in range(window_size + embed_size, len(series)):\n",
    "        query = series.iloc[i - embed_size:i].values\n",
    "        history = series.iloc[:i - embed_size].values\n",
    "        if len(history) < window_size:\n",
    "            predictions.append(0)\n",
    "            continue\n",
    "        start_index = max(0, len(history) - window_size)\n",
    "        historical_embeddings = np.array([\n",
    "            history[j:j + embed_size] for j in range(start_index, len(history) - embed_size + 1)\n",
    "        ])\n",
    "        nbrs = NearestNeighbors(n_neighbors=k, metric=metric, n_jobs=-1)\n",
    "        nbrs.fit(historical_embeddings)\n",
    "        dist, indices = nbrs.kneighbors([query])\n",
    "        next_returns = [series.iloc[start_index + idx + embed_size] for idx in indices[0]]\n",
    "        weights = 1 / (dist[0] + 1e-6)\n",
    "        prediction = np.average(next_returns, weights=weights)\n",
    "        predictions.append(prediction)\n",
    "    return [0] * (window_size + embed_size) + predictions \n",
    "df[\"knn_asd_pred\"] = knn_forecast(df[\"ema_returns_std\"], metric=asd_metric)\n",
    "df[\"knn_cid_pred\"] = knn_forecast(df[\"ema_returns_std\"], metric=cid_metric)\n",
    "df[\"knn_dtw_pred\"] = knn_forecast(df[\"ema_returns_std\"], metric=dtw_metric)\n",
    "df[\"knn_euc_pred\"] = knn_forecast(df[\"ema_returns_std\"], metric=\"euclidean\")"
   ]
  },
  {
   "cell_type": "markdown",
   "metadata": {},
   "source": [
    "#### Algorithm results"
   ]
  },
  {
   "cell_type": "markdown",
   "metadata": {},
   "source": [
    "## Simple Backtest of Forecast Predictions"
   ]
  },
  {
   "cell_type": "markdown",
   "metadata": {},
   "source": [
    "### Backtest Strategy"
   ]
  },
  {
   "cell_type": "markdown",
   "metadata": {},
   "source": [
    "## Results and Visualization"
   ]
  },
  {
   "cell_type": "markdown",
   "metadata": {},
   "source": [
    "## Conclusion"
   ]
  },
  {
   "cell_type": "markdown",
   "metadata": {},
   "source": [
    "## References\n",
    "[1] James Chen. (2024). [What is EMA? How to Use Exponential Moving Average With Formula](https://www.investopedia.com/terms/e/ema.asp)\n",
    "\n",
    "[2] G. E. A. P. A. Batista, X. Wang, and E. J. Keogh, \"A Complexity-Invariant Distance Measure for Time Series,\"\n",
    "\n",
    "[1] GeeksForGeeks (2023). [Similarity Search for Time-Series Data](https://www.geeksforgeeks.org/similarity-search-for-time-series-data/)\n",
    "\n",
    "\n",
    "[4] Romain Tavenard [An introduction to Dynamic Time Warping](https://rtavenar.github.io/blog/dtw.html)\n",
    "\n",
    "[5] GeeksForGeeks (2024). [Dynamic Time Warping (DTW) in Time Series](https://www.geeksforgeeks.org/dynamic-time-warping-dtw-in-time-series/)"
   ]
  },
  {
   "cell_type": "markdown",
   "metadata": {},
   "source": []
  }
 ],
 "metadata": {
  "kernelspec": {
   "display_name": "Python 3",
   "language": "python",
   "name": "python3"
  },
  "language_info": {
   "codemirror_mode": {
    "name": "ipython",
    "version": 3
   },
   "file_extension": ".py",
   "mimetype": "text/x-python",
   "name": "python",
   "nbconvert_exporter": "python",
   "pygments_lexer": "ipython3",
   "version": "3.9.10"
  }
 },
 "nbformat": 4,
 "nbformat_minor": 4
}
