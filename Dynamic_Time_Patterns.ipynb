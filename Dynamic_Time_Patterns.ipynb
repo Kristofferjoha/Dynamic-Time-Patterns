{
 "cells": [
  {
   "cell_type": "markdown",
   "metadata": {},
   "source": [
    "# Table of Contents\n",
    "- [Dynamic Time Patterns for Algorithmic Trading using machine learning](#dynamic-time-patterns-for-algorithmic-trading-using-machine-learning)\n",
    "  - [Setup and Preprocessing](#setup-and-preprocessing)\n",
    "  - [Math Behind the Algorithm](#math)\n",
    "    - [Distance Metrics](#distance-metrics)  \n",
    "    - [K Nearest Neighbor Algorithm](#k-nearest-neighbor-algorithm)\n",
    "  - [Simple Backtest](#simple-backtest-of-forecast-predictions)\n",
    "    - [Backtest Strategy](#backtest-strategy)\n",
    "  - [Results and Visualization](#results-and-visualization)  \n",
    "  - [Conclusion](#conclusion)"
   ]
  },
  {
   "cell_type": "markdown",
   "metadata": {},
   "source": [
    "# Dynamic Time Patterns for Algorithmic Trading using machine learning\n",
    "This notebook goes trough the dynamic time pattern algorithm and its implementation.\n"
   ]
  },
  {
   "cell_type": "markdown",
   "metadata": {},
   "source": [
    "## Setup and Preprocessing\n",
    "If you want to run algorithm for yourself, import libraries, and initialize data. The time-inverval and parameters i have chosen makes it take roughly 20 minutes. If you don't want to run it, just see math and implementation"
   ]
  },
  {
   "cell_type": "markdown",
   "metadata": {},
   "source": [
    "### Enviornment Setup\n",
    "Install the required libraries using:"
   ]
  },
  {
   "cell_type": "code",
   "execution_count": 2,
   "metadata": {},
   "outputs": [
    {
     "name": "stdout",
     "output_type": "stream",
     "text": [
      "Requirement already satisfied: numpy in c:\\users\\krist\\appdata\\local\\programs\\python\\python39\\lib\\site-packages (2.0.2)\n",
      "Requirement already satisfied: pandas in c:\\users\\krist\\appdata\\local\\programs\\python\\python39\\lib\\site-packages (2.2.3)\n",
      "Requirement already satisfied: matplotlib in c:\\users\\krist\\appdata\\local\\programs\\python\\python39\\lib\\site-packages (3.9.4)\n",
      "Requirement already satisfied: fastdtw in c:\\users\\krist\\appdata\\local\\programs\\python\\python39\\lib\\site-packages (0.3.4)\n",
      "Requirement already satisfied: scikit-learn in c:\\users\\krist\\appdata\\local\\programs\\python\\python39\\lib\\site-packages (1.6.1)\n",
      "Requirement already satisfied: python-dateutil>=2.8.2 in c:\\users\\krist\\appdata\\roaming\\python\\python39\\site-packages (from pandas) (2.9.0.post0)\n",
      "Requirement already satisfied: pytz>=2020.1 in c:\\users\\krist\\appdata\\local\\programs\\python\\python39\\lib\\site-packages (from pandas) (2025.1)\n",
      "Requirement already satisfied: tzdata>=2022.7 in c:\\users\\krist\\appdata\\local\\programs\\python\\python39\\lib\\site-packages (from pandas) (2025.1)\n",
      "Requirement already satisfied: contourpy>=1.0.1 in c:\\users\\krist\\appdata\\local\\programs\\python\\python39\\lib\\site-packages (from matplotlib) (1.3.0)\n",
      "Requirement already satisfied: cycler>=0.10 in c:\\users\\krist\\appdata\\local\\programs\\python\\python39\\lib\\site-packages (from matplotlib) (0.12.1)\n",
      "Requirement already satisfied: fonttools>=4.22.0 in c:\\users\\krist\\appdata\\local\\programs\\python\\python39\\lib\\site-packages (from matplotlib) (4.56.0)\n",
      "Requirement already satisfied: kiwisolver>=1.3.1 in c:\\users\\krist\\appdata\\local\\programs\\python\\python39\\lib\\site-packages (from matplotlib) (1.4.7)\n",
      "Requirement already satisfied: packaging>=20.0 in c:\\users\\krist\\appdata\\local\\programs\\python\\python39\\lib\\site-packages (from matplotlib) (24.2)\n",
      "Requirement already satisfied: pillow>=8 in c:\\users\\krist\\appdata\\local\\programs\\python\\python39\\lib\\site-packages (from matplotlib) (11.1.0)\n",
      "Requirement already satisfied: pyparsing>=2.3.1 in c:\\users\\krist\\appdata\\local\\programs\\python\\python39\\lib\\site-packages (from matplotlib) (3.2.1)\n",
      "Requirement already satisfied: importlib-resources>=3.2.0 in c:\\users\\krist\\appdata\\local\\programs\\python\\python39\\lib\\site-packages (from matplotlib) (6.5.2)\n",
      "Requirement already satisfied: scipy>=1.6.0 in c:\\users\\krist\\appdata\\local\\programs\\python\\python39\\lib\\site-packages (from scikit-learn) (1.13.1)\n",
      "Requirement already satisfied: joblib>=1.2.0 in c:\\users\\krist\\appdata\\local\\programs\\python\\python39\\lib\\site-packages (from scikit-learn) (1.4.2)\n",
      "Requirement already satisfied: threadpoolctl>=3.1.0 in c:\\users\\krist\\appdata\\local\\programs\\python\\python39\\lib\\site-packages (from scikit-learn) (3.5.0)\n",
      "Requirement already satisfied: zipp>=3.1.0 in c:\\users\\krist\\appdata\\local\\programs\\python\\python39\\lib\\site-packages (from importlib-resources>=3.2.0->matplotlib) (3.21.0)\n",
      "Requirement already satisfied: six>=1.5 in c:\\users\\krist\\appdata\\local\\programs\\python\\python39\\lib\\site-packages (from python-dateutil>=2.8.2->pandas) (1.17.0)\n",
      "Note: you may need to restart the kernel to use updated packages.\n"
     ]
    }
   ],
   "source": [
    "pip install numpy pandas matplotlib fastdtw scikit-learn"
   ]
  },
  {
   "cell_type": "code",
   "execution_count": 3,
   "metadata": {},
   "outputs": [],
   "source": [
    "import pandas as pd\n",
    "import numpy as np\n",
    "import matplotlib.pyplot as plt\n",
    "from fastdtw import fastdtw\n",
    "from sklearn.neighbors import NearestNeighbors"
   ]
  },
  {
   "cell_type": "code",
   "execution_count": null,
   "metadata": {},
   "outputs": [],
   "source": []
  },
  {
   "cell_type": "markdown",
   "metadata": {},
   "source": [
    "### Data Collection\n",
    "For this project, high-frequency forex data has been used, soruced from Metatrader.\n",
    "\n",
    "It is downloaded as 1 minute data, which is being changed to 5-minute intervals, where the Closing price of the asset will be used for the return. The data has the Time, Open, High, Low and Closing price.\n",
    "\n",
    "In the case of the code below, the GBP/USD data is used, from the time period March 1, 2021 00:00 - march 31, 2021 23:55."
   ]
  },
  {
   "cell_type": "code",
   "execution_count": 4,
   "metadata": {},
   "outputs": [
    {
     "name": "stdout",
     "output_type": "stream",
     "text": [
      "                        Open     High      Low    Close\n",
      "Time                                                   \n",
      "2021-03-31 16:55:00  1.37838  1.37848  1.37788  1.37791\n",
      "2021-03-31 17:00:00  1.37792  1.37816  1.37759  1.37809\n",
      "2021-03-31 17:05:00  1.37808  1.37840  1.37787  1.37787\n",
      "2021-03-31 17:10:00  1.37802  1.37802  1.37794  1.37795\n",
      "2021-03-31 17:15:00  1.37795  1.37801  1.37794  1.37798\n"
     ]
    }
   ],
   "source": [
    "df = pd.read_csv(\"gbp_usd_5min.csv\", parse_dates=[\"Time\"])\n",
    "\n",
    "# Sort the index to ensure monotonicity\n",
    "df.set_index(\"Time\", inplace=True)\n",
    "df = df.sort_index()\n",
    "\n",
    "# date-range of data that will be used\n",
    "start_date = \"2021-03-01 00:00\"\n",
    "end_date = \"2021-03-31 17:15\"\n",
    "\n",
    "# Define range of df to be used based on dates\n",
    "df = df.loc[start_date:end_date]\n",
    "\n",
    "print(df.tail())\n"
   ]
  },
  {
   "cell_type": "markdown",
   "metadata": {},
   "source": [
    "### data preprocessing"
   ]
  },
  {
   "cell_type": "markdown",
   "metadata": {},
   "source": [
    "Checking for missing values:"
   ]
  },
  {
   "cell_type": "code",
   "execution_count": 5,
   "metadata": {},
   "outputs": [
    {
     "name": "stdout",
     "output_type": "stream",
     "text": [
      "Open     0\n",
      "High     0\n",
      "Low      0\n",
      "Close    0\n",
      "dtype: int64\n"
     ]
    }
   ],
   "source": [
    "print(df.isna().sum())\n"
   ]
  },
  {
   "cell_type": "markdown",
   "metadata": {},
   "source": [
    "Logarithmic returns are computed based on closing price at time $t$ divided by closing price at time $t+1$."
   ]
  },
  {
   "cell_type": "code",
   "execution_count": 6,
   "metadata": {},
   "outputs": [],
   "source": [
    "df[\"returns\"] = np.log(df[\"Close\"] / df[\"Close\"].shift(1))\n",
    "df.dropna(inplace=True)"
   ]
  },
  {
   "cell_type": "markdown",
   "metadata": {},
   "source": [
    "#### Smoothing Returns Using Exponential Moving Average\n",
    "\n",
    "The returns are smoothed using exponential moving average.\n",
    "The Exponential Moving Average (EMA) is a weighted moving average that gives more significance to recent data points, making it more responsive to price changes compared to a simple moving average (SMA). \n",
    "\n",
    "##### Formula:\n",
    "$\n",
    "EMA_t = \\alpha \\cdot R_t + (1 - \\alpha) \\cdot EMA_{t-1}\n",
    "$\n",
    "\n",
    "where:\n",
    "- $ EMA_t $ is the exponential moving average at time $ t $,\n",
    "- $ R_t $ is the return at time \\( t \\),\n",
    "- $ \\alpha $ is the smoothing factor, calculated as:\n",
    "  $\n",
    "  \\alpha = \\frac{2}{span + 1}\n",
    "  $\n",
    "- $ span $ is the chosen period for smoothing.\n",
    "\n",
    "The smoothing factor $ \\alpha $ determines how much weight recent returns receive. A higher $ \\alpha $ (lower span) makes the EMA react more to new data, while a lower $ \\alpha $ (higher span) results in a smoother curve.\n",
    "\n",
    "The implementation in python is as followed:"
   ]
  },
  {
   "cell_type": "code",
   "execution_count": 7,
   "metadata": {},
   "outputs": [
    {
     "name": "stdout",
     "output_type": "stream",
     "text": [
      "Time\n",
      "2021-03-01 00:05:00    0.000007\n",
      "2021-03-01 00:10:00    0.000052\n",
      "2021-03-01 00:15:00    0.000035\n",
      "2021-03-01 00:20:00    0.000022\n",
      "2021-03-01 00:25:00    0.000031\n",
      "Name: ema_returns, dtype: float64\n"
     ]
    }
   ],
   "source": [
    "def apply_ema(series, span):\n",
    "    return series.ewm(span=span, adjust=False).mean()\n",
    "\n",
    "df[\"ema_returns\"] = apply_ema(df[\"returns\"], span=15)\n",
    "df.dropna(inplace=True)\n",
    "print(df[\"ema_returns\"].head())"
   ]
  },
  {
   "cell_type": "markdown",
   "metadata": {},
   "source": [
    "To validate the function’s correctness (and to show the formula calculation in python), the EMA of return 100 is calculated and compared to the output from apply_ema():"
   ]
  },
  {
   "cell_type": "code",
   "execution_count": 8,
   "metadata": {},
   "outputs": [
    {
     "name": "stdout",
     "output_type": "stream",
     "text": [
      "🎉🎉🎉\n",
      "Manual EMA: -0.00019552803368233756\n",
      "apply_ema() EMA: -0.00019552803368233756\n"
     ]
    }
   ],
   "source": [
    "span = 15\n",
    "EMA_return_100 = 2/(span+1) * df[\"returns\"].iloc[100] + (1 - 2/(span+1)) * df[\"ema_returns\"].iloc[99]\n",
    "if EMA_return_100 == df.iloc[100][\"ema_returns\"]:\n",
    "    print(\"🎉🎉🎉\")\n",
    "print(\"Manual EMA:\", EMA_return_100)\n",
    "print(\"apply_ema() EMA:\", df[\"ema_returns\"].iloc[100])"
   ]
  },
  {
   "cell_type": "markdown",
   "metadata": {},
   "source": [
    "#### Standardizing EMA Returns Using Rolling Standard Deviation\n",
    "Standardization is used to normalize data by adjusting for variations in scale and volatility, making it easier to compare values across different time, allowing the detection of regime shifts.\n",
    "\n",
    "$\n",
    "\\sigma_t = \\sqrt{\\frac{1}{w} \\sum_{i=t-w+1}^{t} (EMA_i - \\bar{EMA})^2}\n",
    "$\n",
    "\n",
    "where:\n",
    "\n",
    "- $ \\sigma_t $ is the rolling standard deviation at time $ t $,\n",
    "- $ EMA_i $ are the exponential moving averages within the window,\n",
    "- $ \\bar{EMA} $ is the mean EMA within the window,\n",
    "- $ w $ is the window size.\n",
    "\n",
    "standardize the EMA returns:\n",
    "\n",
    "$\n",
    "EMA_{std,t} = \\frac{EMA_t}{\\sigma_t}\n",
    "$\n",
    "\n",
    "In this case the window is 120.\n",
    "\n",
    "The implementation in python is as followed:"
   ]
  },
  {
   "cell_type": "code",
   "execution_count": 9,
   "metadata": {},
   "outputs": [
    {
     "name": "stdout",
     "output_type": "stream",
     "text": [
      "Time\n",
      "2021-03-01 00:05:00    0.104078\n",
      "2021-03-01 00:10:00    1.640531\n",
      "2021-03-01 00:15:00    1.536623\n",
      "2021-03-01 00:20:00    1.175463\n",
      "2021-03-01 00:25:00    1.892782\n",
      "Name: ema_returns_std, dtype: float64\n"
     ]
    }
   ],
   "source": [
    "window_size = 120\n",
    "df[\"rolling_std\"] = df[\"ema_returns\"].rolling(window=window_size, min_periods=1).std()\n",
    "df[\"rolling_std\"] = df[\"rolling_std\"].fillna(df[\"rolling_std\"].mean())\n",
    "df[\"ema_returns_std\"] = df[\"ema_returns\"] / df[\"rolling_std\"]\n",
    "df.dropna(inplace=True)\n",
    "print(df[\"ema_returns_std\"].head())"
   ]
  },
  {
   "cell_type": "markdown",
   "metadata": {},
   "source": [
    "## Math"
   ]
  },
  {
   "cell_type": "markdown",
   "metadata": {},
   "source": [
    "### Distance Metrics\n",
    "The kNN model compares time series embeddings using:\n",
    "- **Euclidean**: $ \\sqrt{\\sum (x_i - y_i)^2} $\n",
    "- **DTW**: Dynamic Time Warping, aligns series for pattern matching.\n",
    "- **ASD**: Average Squared Difference, $\\text{ASD}(x, y) = \\frac{1}{n} \\sum (x_i - y_i)^2 $\n",
    "- **CID**: Complexity-Invariant Distance, scales Euclidean by complexity ratio.\n"
   ]
  },
  {
   "cell_type": "markdown",
   "metadata": {},
   "source": [
    "### K-Nearest-Neighbor Algorithm"
   ]
  },
  {
   "cell_type": "markdown",
   "metadata": {},
   "source": [
    "## Simple Backtest of Forecast Predictions"
   ]
  },
  {
   "cell_type": "markdown",
   "metadata": {},
   "source": [
    "### Backtest Strategy"
   ]
  },
  {
   "cell_type": "markdown",
   "metadata": {},
   "source": [
    "## Results and Visualization"
   ]
  },
  {
   "cell_type": "markdown",
   "metadata": {},
   "source": [
    "## Conclusion"
   ]
  }
 ],
 "metadata": {
  "kernelspec": {
   "display_name": "Python 3",
   "language": "python",
   "name": "python3"
  },
  "language_info": {
   "codemirror_mode": {
    "name": "ipython",
    "version": 3
   },
   "file_extension": ".py",
   "mimetype": "text/x-python",
   "name": "python",
   "nbconvert_exporter": "python",
   "pygments_lexer": "ipython3",
   "version": "3.9.10"
  }
 },
 "nbformat": 4,
 "nbformat_minor": 4
}
