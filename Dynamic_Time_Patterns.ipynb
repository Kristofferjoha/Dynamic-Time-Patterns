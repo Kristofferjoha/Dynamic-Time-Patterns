{
 "cells": [
  {
   "cell_type": "markdown",
   "metadata": {},
   "source": [
    "# Table of Contents\n",
    "- [Dynamic Time Patterns for Algorithmic Trading using machine learning](#dynamic-time-patterns-for-algorithmic-trading-using-machine-learning)\n",
    "  - [Setup and Preprocessing](#setup-and-preprocessing)\n",
    "  - [Math Behind the Algorithm](#math)\n",
    "    - [Distance Metrics](#distance-metrics)  \n",
    "    - [K Nearest Neighbor Algorithm](#k-nearest-neighbor-algorithm)\n",
    "  - [Simple Backtest](#simple-backtest-of-forecast-predictions)\n",
    "    - [Backtest Strategy](#backtest-strategy)\n",
    "  - [Results and Visualization](#results-and-visualization)  \n",
    "  - [Conclusion](#conclusion)"
   ]
  },
  {
   "cell_type": "markdown",
   "metadata": {},
   "source": [
    "# Dynamic Time Patterns for Algorithmic Trading using machine learning\n",
    "This notebook goes trough the dynamic time pattern algorithm and its implementation.\n"
   ]
  },
  {
   "cell_type": "markdown",
   "metadata": {},
   "source": [
    "## Setup and Preprocessing\n",
    "If you want to run algorithm for yourself, import libraries, and initialize data. The time-inverval and parameters i have chosen makes it take roughly 20 minutes. If you don't want to run it, just see math and implementation"
   ]
  },
  {
   "cell_type": "markdown",
   "metadata": {},
   "source": [
    "### Enviornment Setup\n",
    "Install the required libraries using:"
   ]
  },
  {
   "cell_type": "code",
   "execution_count": 9,
   "metadata": {},
   "outputs": [
    {
     "name": "stdout",
     "output_type": "stream",
     "text": [
      "Requirement already satisfied: numpy in c:\\users\\krist\\appdata\\local\\programs\\python\\python39\\lib\\site-packages (2.0.2)\n",
      "Requirement already satisfied: pandas in c:\\users\\krist\\appdata\\local\\programs\\python\\python39\\lib\\site-packages (2.2.3)\n",
      "Requirement already satisfied: matplotlib in c:\\users\\krist\\appdata\\local\\programs\\python\\python39\\lib\\site-packages (3.9.4)\n",
      "Requirement already satisfied: fastdtw in c:\\users\\krist\\appdata\\local\\programs\\python\\python39\\lib\\site-packages (0.3.4)\n",
      "Requirement already satisfied: scikit-learn in c:\\users\\krist\\appdata\\local\\programs\\python\\python39\\lib\\site-packages (1.6.1)\n",
      "Requirement already satisfied: python-dateutil>=2.8.2 in c:\\users\\krist\\appdata\\roaming\\python\\python39\\site-packages (from pandas) (2.9.0.post0)\n",
      "Requirement already satisfied: pytz>=2020.1 in c:\\users\\krist\\appdata\\local\\programs\\python\\python39\\lib\\site-packages (from pandas) (2025.1)\n",
      "Requirement already satisfied: tzdata>=2022.7 in c:\\users\\krist\\appdata\\local\\programs\\python\\python39\\lib\\site-packages (from pandas) (2025.1)\n",
      "Requirement already satisfied: contourpy>=1.0.1 in c:\\users\\krist\\appdata\\local\\programs\\python\\python39\\lib\\site-packages (from matplotlib) (1.3.0)\n",
      "Requirement already satisfied: cycler>=0.10 in c:\\users\\krist\\appdata\\local\\programs\\python\\python39\\lib\\site-packages (from matplotlib) (0.12.1)\n",
      "Requirement already satisfied: fonttools>=4.22.0 in c:\\users\\krist\\appdata\\local\\programs\\python\\python39\\lib\\site-packages (from matplotlib) (4.56.0)\n",
      "Requirement already satisfied: kiwisolver>=1.3.1 in c:\\users\\krist\\appdata\\local\\programs\\python\\python39\\lib\\site-packages (from matplotlib) (1.4.7)\n",
      "Requirement already satisfied: packaging>=20.0 in c:\\users\\krist\\appdata\\local\\programs\\python\\python39\\lib\\site-packages (from matplotlib) (24.2)\n",
      "Requirement already satisfied: pillow>=8 in c:\\users\\krist\\appdata\\local\\programs\\python\\python39\\lib\\site-packages (from matplotlib) (11.1.0)\n",
      "Requirement already satisfied: pyparsing>=2.3.1 in c:\\users\\krist\\appdata\\local\\programs\\python\\python39\\lib\\site-packages (from matplotlib) (3.2.1)\n",
      "Requirement already satisfied: importlib-resources>=3.2.0 in c:\\users\\krist\\appdata\\local\\programs\\python\\python39\\lib\\site-packages (from matplotlib) (6.5.2)\n",
      "Requirement already satisfied: scipy>=1.6.0 in c:\\users\\krist\\appdata\\local\\programs\\python\\python39\\lib\\site-packages (from scikit-learn) (1.13.1)\n",
      "Requirement already satisfied: joblib>=1.2.0 in c:\\users\\krist\\appdata\\local\\programs\\python\\python39\\lib\\site-packages (from scikit-learn) (1.4.2)\n",
      "Requirement already satisfied: threadpoolctl>=3.1.0 in c:\\users\\krist\\appdata\\local\\programs\\python\\python39\\lib\\site-packages (from scikit-learn) (3.5.0)\n",
      "Requirement already satisfied: zipp>=3.1.0 in c:\\users\\krist\\appdata\\local\\programs\\python\\python39\\lib\\site-packages (from importlib-resources>=3.2.0->matplotlib) (3.21.0)\n",
      "Requirement already satisfied: six>=1.5 in c:\\users\\krist\\appdata\\local\\programs\\python\\python39\\lib\\site-packages (from python-dateutil>=2.8.2->pandas) (1.17.0)\n",
      "Note: you may need to restart the kernel to use updated packages.\n"
     ]
    }
   ],
   "source": [
    "pip install numpy pandas matplotlib fastdtw scikit-learn"
   ]
  },
  {
   "cell_type": "code",
   "execution_count": 8,
   "metadata": {},
   "outputs": [],
   "source": [
    "import pandas as pd\n",
    "import numpy as np\n",
    "import matplotlib.pyplot as plt\n",
    "from fastdtw import fastdtw\n",
    "from sklearn.neighbors import NearestNeighbors"
   ]
  },
  {
   "cell_type": "code",
   "execution_count": null,
   "metadata": {},
   "outputs": [],
   "source": []
  },
  {
   "cell_type": "markdown",
   "metadata": {},
   "source": [
    "### Data Collection\n",
    "For this project, high-frequency forex data has been used, soruced from Metatrader.\n",
    "It is downloaded as 1 minute data, which is being changed to 5-minute intervals, where the Closing price of the asset will be used for the return.\n",
    "In the case of the code below, the GBP/USD data is used, from the time period March 1, 2021 17:15 - march 31, 2021 17:15."
   ]
  },
  {
   "cell_type": "code",
   "execution_count": 14,
   "metadata": {},
   "outputs": [
    {
     "name": "stdout",
     "output_type": "stream",
     "text": [
      "                        Open     High      Low    Close\n",
      "Time                                                   \n",
      "2021-03-31 16:55:00  1.37838  1.37848  1.37788  1.37791\n",
      "2021-03-31 17:00:00  1.37792  1.37816  1.37759  1.37809\n",
      "2021-03-31 17:05:00  1.37808  1.37840  1.37787  1.37787\n",
      "2021-03-31 17:10:00  1.37802  1.37802  1.37794  1.37795\n",
      "2021-03-31 17:15:00  1.37795  1.37801  1.37794  1.37798\n"
     ]
    }
   ],
   "source": [
    "df = pd.read_csv(\"gbp_usd_5min.csv\", parse_dates=[\"Time\"])\n",
    "\n",
    "# Sort the index to ensure monotonicity\n",
    "df.set_index(\"Time\", inplace=True)\n",
    "df = df.sort_index()\n",
    "\n",
    "# Define proper date range\n",
    "start_date = \"2021-03-01 17:15\"\n",
    "end_date = \"2021-03-31 17:15\"\n",
    "\n",
    "# Filter the data\n",
    "df = df.loc[start_date:end_date]\n",
    "\n",
    "# Print the last few rows to verify\n",
    "print(df.tail())\n"
   ]
  },
  {
   "cell_type": "markdown",
   "metadata": {},
   "source": [
    "### data preprocessing"
   ]
  },
  {
   "cell_type": "markdown",
   "metadata": {},
   "source": [
    "First, one can check for missing values. in this case there are none."
   ]
  },
  {
   "cell_type": "code",
   "execution_count": 11,
   "metadata": {},
   "outputs": [
    {
     "name": "stdout",
     "output_type": "stream",
     "text": [
      "Open     0\n",
      "High     0\n",
      "Low      0\n",
      "Close    0\n",
      "dtype: int64\n"
     ]
    }
   ],
   "source": [
    "print(df.isna().sum())\n"
   ]
  },
  {
   "cell_type": "markdown",
   "metadata": {},
   "source": [
    "Logarithmic returns are computed based on closing price at time t divided by closing price at time t+1."
   ]
  },
  {
   "cell_type": "code",
   "execution_count": 15,
   "metadata": {},
   "outputs": [],
   "source": [
    "df[\"returns\"] = np.log(df[\"Close\"] / df[\"Close\"].shift(1))\n",
    "df.dropna(inplace=True)"
   ]
  },
  {
   "cell_type": "markdown",
   "metadata": {},
   "source": [
    "The returns are smoothed using exponential moving average.\n",
    "The Exponential Moving Average (EMA) is a weighted moving average that gives more significance to recent data points, making it more responsive to price changes compared to a simple moving average (SMA). \n",
    "\n",
    "#### Formula:\n",
    "$\n",
    "EMA_t = \\alpha \\cdot R_t + (1 - \\alpha) \\cdot EMA_{t-1}\n",
    "$\n",
    "\n",
    "where:\n",
    "- $ EMA_t $ is the exponential moving average at time $ t $,\n",
    "- $ R_t $ is the return at time \\( t \\),\n",
    "- $ \\alpha $ is the smoothing factor, calculated as:\n",
    "  $\n",
    "  \\alpha = \\frac{2}{span + 1}\n",
    "  $\n",
    "- $ span $ is the chosen period for smoothing.\n",
    "\n",
    "#### Explanation:\n",
    "- The smoothing factor $ \\alpha $ determines how much weight recent returns receive. A higher \\( \\alpha \\) (lower span) makes the EMA react more to new data, while a lower \\( \\alpha \\) (higher span) results in a smoother curve.\n",
    "\n",
    "The implementation in python is as followed:"
   ]
  },
  {
   "cell_type": "code",
   "execution_count": 20,
   "metadata": {},
   "outputs": [],
   "source": [
    "def apply_ema(series, span):\n",
    "    return series.ewm(span=span, adjust=False).mean()\n",
    "df[\"ema_returns\"] = apply_ema(df[\"returns\"], span=15)\n",
    "df.dropna(inplace=True)"
   ]
  },
  {
   "cell_type": "markdown",
   "metadata": {},
   "source": [
    "To show manual EMA calculations, the manual caclulation of ema return of day 100 will be done, comparing it do the functions output."
   ]
  },
  {
   "cell_type": "code",
   "execution_count": null,
   "metadata": {},
   "outputs": [
    {
     "name": "stdout",
     "output_type": "stream",
     "text": [
      "🎉🎉🎉\n",
      "Manual EMA: 4.034298064564988e-05\n",
      "apply_ema() EMA: 4.034298064564988e-05\n"
     ]
    }
   ],
   "source": [
    "span = 15\n",
    "EMA_return_100 = 2/(span+1) * df[\"returns\"].iloc[100] + (1 - 2/(span+1)) * df[\"ema_returns\"].iloc[99]\n",
    "if EMA_return_100 == df.iloc[100][\"ema_returns\"]:\n",
    "    print(\"🎉🎉🎉\")\n",
    "print(\"Manual EMA:\", EMA_return_100)\n",
    "print(\"apply_ema() EMA:\", df[\"ema_returns\"].iloc[100])"
   ]
  },
  {
   "cell_type": "code",
   "execution_count": null,
   "metadata": {},
   "outputs": [],
   "source": [
    "window_size = 120\n",
    "df[\"rolling_std\"] = df[\"ema_returns\"].rolling(window=window_size, min_periods=1).std()\n",
    "df[\"rolling_std\"] = df[\"rolling_std\"].fillna(df[\"rolling_std\"].mean())\n",
    "df[\"ema_returns_std\"] = df[\"ema_returns\"] / df[\"rolling_std\"]\n",
    "df.dropna(inplace=True)"
   ]
  },
  {
   "cell_type": "markdown",
   "metadata": {},
   "source": [
    "## Math"
   ]
  },
  {
   "cell_type": "markdown",
   "metadata": {},
   "source": [
    "### Distance Metrics\n",
    "The kNN model compares time series embeddings using:\n",
    "- **Euclidean**: $ \\sqrt{\\sum (x_i - y_i)^2} $\n",
    "- **DTW**: Dynamic Time Warping, aligns series for pattern matching.\n",
    "- **ASD**: Average Squared Difference, $\\text{ASD}(x, y) = \\frac{1}{n} \\sum (x_i - y_i)^2 $\n",
    "- **CID**: Complexity-Invariant Distance, scales Euclidean by complexity ratio.\n"
   ]
  },
  {
   "cell_type": "markdown",
   "metadata": {},
   "source": [
    "### K-Nearest-Neighbor Algorithm"
   ]
  },
  {
   "cell_type": "markdown",
   "metadata": {},
   "source": [
    "### Preprocessing\n",
    "We transform raw prices into a forecastable series:\n",
    "1. Log returns: $r_t = \\ln\\left(\\frac{P_t}{P_{t-1}}\\right)$\n",
    "2. EMA of returns: $EMA_t = \\alpha \\cdot r_t + (1 - \\alpha) \\cdot EMA_{t-1}$ (span=15)\n",
    "3. Rolling volatility: $\\sigma_t = \\text{std}(EMA_{t-window:t})$ (window=120)\n",
    "4. Standardized returns: $z_t = \\frac{EMA_t}{\\sigma_t}$"
   ]
  },
  {
   "cell_type": "markdown",
   "metadata": {},
   "source": [
    "## Simple Backtest of Forecast Predictions"
   ]
  },
  {
   "cell_type": "markdown",
   "metadata": {},
   "source": [
    "### Backtest Strategy"
   ]
  },
  {
   "cell_type": "markdown",
   "metadata": {},
   "source": [
    "## Results and Visualization"
   ]
  },
  {
   "cell_type": "markdown",
   "metadata": {},
   "source": [
    "## Conclusion"
   ]
  },
  {
   "cell_type": "code",
   "execution_count": 4,
   "metadata": {
    "editable": true,
    "slideshow": {
     "slide_type": ""
    },
    "tags": []
   },
   "outputs": [
    {
     "name": "stdout",
     "output_type": "stream",
     "text": [
      "                        Open     High      Low    Close\n",
      "Time                                                   \n",
      "2024-02-01 16:55:00  6.85628  6.85635  6.85520  6.85618\n",
      "2024-02-01 17:00:00  6.85615  6.85615  6.85407  6.85416\n",
      "2024-02-01 17:05:00  6.85450  6.85450  6.85416  6.85438\n",
      "2024-02-01 17:10:00  6.85438  6.85497  6.85424  6.85460\n",
      "2024-02-01 17:15:00  6.85461  6.85798  6.85435  6.85584\n"
     ]
    }
   ],
   "source": [
    "df = pd.read_csv(\"data/forex_data/usd_dkk_5min.csv\", parse_dates=[\"Time\"])\n",
    "\n",
    "# Sort the index to ensure monotonicity\n",
    "df.reset_index(drop=True, inplace=True)\n",
    "df.set_index(\"Time\", inplace=True)\n",
    "df = df.sort_index()\n",
    "\n",
    "# Define the start and end dates in the proper datetime format\n",
    "start_date = \"2024-01-01 17:15\"\n",
    "end_date = \"2024-2-01 17:15\"\n",
    "\n",
    "# Filter the data to the defined date range\n",
    "df = df[start_date:end_date].copy()\n",
    "\n",
    "# Print the last few rows to verify\n",
    "print(df.tail())\n"
   ]
  },
  {
   "cell_type": "code",
   "execution_count": 49,
   "metadata": {
    "editable": true,
    "slideshow": {
     "slide_type": ""
    },
    "tags": []
   },
   "outputs": [],
   "source": [
    "# Calculate log returns\n",
    "df[\"returns\"] = np.log(df[\"Close\"] / df[\"Close\"].shift(1))\n",
    "df.dropna(inplace=True)"
   ]
  },
  {
   "cell_type": "code",
   "execution_count": 50,
   "metadata": {
    "editable": true,
    "slideshow": {
     "slide_type": ""
    },
    "tags": []
   },
   "outputs": [],
   "source": [
    "from tslearn.metrics import dtw\n",
    "from sklearn.neighbors import NearestNeighbors\n",
    "import numpy as np\n",
    "from fastdtw import fastdtw\n",
    "\n",
    "\n",
    "def knn_dtw_forecast(series, window_size=800, embed_size=10, k=10):\n",
    "    predictions = []\n",
    "    \n",
    "    # FastDTW metric for kNN\n",
    "    def dtw_metric(x, y):\n",
    "        x_norm = (x - x.mean()) / x.std()\n",
    "        y_norm = (y - y.mean()) / y.std()\n",
    "        return fastdtw(x_norm, y_norm)[0]  # Returns only distance\n",
    "\n",
    "    # Main loop\n",
    "    for i in range(window_size + embed_size, len(series)):\n",
    "        query = series.iloc[i - embed_size:i].values\n",
    "        history = series.iloc[:i - embed_size].values\n",
    "\n",
    "        if len(history) < window_size:\n",
    "            predictions.append(0)\n",
    "            continue\n",
    "\n",
    "        # Create rolling window of historical embeddings\n",
    "        start_index = max(0, len(history) - window_size)\n",
    "        historical_embeddings = np.array([history[j:j + embed_size] for j in range(start_index, len(history) - embed_size + 1)])\n",
    "\n",
    "        if query.std() == 0 or np.any(historical_embeddings.std(axis=1) == 0):\n",
    "            predictions.append(0)\n",
    "            continue\n",
    "\n",
    "        # Parallelized kNN search\n",
    "        nbrs = NearestNeighbors(n_neighbors=k, metric=dtw_metric, n_jobs=-1).fit(historical_embeddings)\n",
    "        dist, indices = nbrs.kneighbors([query])\n",
    "\n",
    "        # Predict next return using weighted average\n",
    "        next_returns = [series.iloc[start_index + idx + embed_size] for idx in indices[0]]\n",
    "        weights = 1 / (dist[0] + 1e-6)  # Avoid div by zero\n",
    "        prediction = np.average(next_returns, weights=weights)\n",
    "\n",
    "        predictions.append(prediction)\n",
    "        \n",
    "    # Padding at the start\n",
    "    return [0] * (window_size + embed_size) + predictions\n",
    "\n",
    "# Run optimized forecast\n",
    "df[\"dtw_pred\"] = knn_dtw_forecast(df[\"returns\"])\n"
   ]
  },
  {
   "cell_type": "code",
   "execution_count": 51,
   "metadata": {},
   "outputs": [
    {
     "name": "stdout",
     "output_type": "stream",
     "text": [
      "Time\n",
      "2024-01-01 17:20:00    0.000080\n",
      "2024-01-01 17:25:00    0.000064\n",
      "2024-01-01 17:30:00   -0.000039\n",
      "2024-01-01 17:35:00    0.000164\n",
      "2024-01-01 17:40:00   -0.000022\n",
      "                         ...   \n",
      "2024-02-01 16:55:00   -0.000038\n",
      "2024-02-01 17:00:00   -0.000295\n",
      "2024-02-01 17:05:00    0.000032\n",
      "2024-02-01 17:10:00    0.000032\n",
      "2024-02-01 17:15:00    0.000181\n",
      "Name: returns, Length: 6573, dtype: float64\n",
      "Time\n",
      "2024-01-01 17:20:00    0.000000\n",
      "2024-01-01 17:25:00    0.000000\n",
      "2024-01-01 17:30:00    0.000000\n",
      "2024-01-01 17:35:00    0.000000\n",
      "2024-01-01 17:40:00    0.000000\n",
      "                         ...   \n",
      "2024-02-01 16:55:00   -0.000062\n",
      "2024-02-01 17:00:00   -0.000009\n",
      "2024-02-01 17:05:00   -0.000031\n",
      "2024-02-01 17:10:00   -0.000059\n",
      "2024-02-01 17:15:00    0.000023\n",
      "Name: dtw_pred, Length: 6573, dtype: float64\n"
     ]
    }
   ],
   "source": [
    "df.to_csv(\"output2.csv\")\n",
    "print(df[\"returns\"])\n",
    "print(df[\"dtw_pred\"])"
   ]
  },
  {
   "cell_type": "code",
   "execution_count": 52,
   "metadata": {},
   "outputs": [
    {
     "data": {
      "text/html": [
       "<div>\n",
       "<style scoped>\n",
       "    .dataframe tbody tr th:only-of-type {\n",
       "        vertical-align: middle;\n",
       "    }\n",
       "\n",
       "    .dataframe tbody tr th {\n",
       "        vertical-align: top;\n",
       "    }\n",
       "\n",
       "    .dataframe thead th {\n",
       "        text-align: right;\n",
       "    }\n",
       "</style>\n",
       "<table border=\"1\" class=\"dataframe\">\n",
       "  <thead>\n",
       "    <tr style=\"text-align: right;\">\n",
       "      <th></th>\n",
       "      <th>Open</th>\n",
       "      <th>High</th>\n",
       "      <th>Low</th>\n",
       "      <th>Close</th>\n",
       "      <th>returns</th>\n",
       "      <th>dtw_pred</th>\n",
       "      <th>position</th>\n",
       "    </tr>\n",
       "    <tr>\n",
       "      <th>Time</th>\n",
       "      <th></th>\n",
       "      <th></th>\n",
       "      <th></th>\n",
       "      <th></th>\n",
       "      <th></th>\n",
       "      <th></th>\n",
       "      <th></th>\n",
       "    </tr>\n",
       "  </thead>\n",
       "  <tbody>\n",
       "    <tr>\n",
       "      <th>2024-01-01 17:20:00</th>\n",
       "      <td>6.74681</td>\n",
       "      <td>6.74790</td>\n",
       "      <td>6.74681</td>\n",
       "      <td>6.74740</td>\n",
       "      <td>0.000080</td>\n",
       "      <td>0.000000</td>\n",
       "      <td>0</td>\n",
       "    </tr>\n",
       "    <tr>\n",
       "      <th>2024-01-01 17:25:00</th>\n",
       "      <td>6.74735</td>\n",
       "      <td>6.74791</td>\n",
       "      <td>6.74735</td>\n",
       "      <td>6.74783</td>\n",
       "      <td>0.000064</td>\n",
       "      <td>0.000000</td>\n",
       "      <td>0</td>\n",
       "    </tr>\n",
       "    <tr>\n",
       "      <th>2024-01-01 17:30:00</th>\n",
       "      <td>6.74753</td>\n",
       "      <td>6.74792</td>\n",
       "      <td>6.74751</td>\n",
       "      <td>6.74757</td>\n",
       "      <td>-0.000039</td>\n",
       "      <td>0.000000</td>\n",
       "      <td>0</td>\n",
       "    </tr>\n",
       "    <tr>\n",
       "      <th>2024-01-01 17:35:00</th>\n",
       "      <td>6.74757</td>\n",
       "      <td>6.74868</td>\n",
       "      <td>6.74743</td>\n",
       "      <td>6.74868</td>\n",
       "      <td>0.000164</td>\n",
       "      <td>0.000000</td>\n",
       "      <td>0</td>\n",
       "    </tr>\n",
       "    <tr>\n",
       "      <th>2024-01-01 17:40:00</th>\n",
       "      <td>6.74868</td>\n",
       "      <td>6.74904</td>\n",
       "      <td>6.74838</td>\n",
       "      <td>6.74853</td>\n",
       "      <td>-0.000022</td>\n",
       "      <td>0.000000</td>\n",
       "      <td>0</td>\n",
       "    </tr>\n",
       "    <tr>\n",
       "      <th>...</th>\n",
       "      <td>...</td>\n",
       "      <td>...</td>\n",
       "      <td>...</td>\n",
       "      <td>...</td>\n",
       "      <td>...</td>\n",
       "      <td>...</td>\n",
       "      <td>...</td>\n",
       "    </tr>\n",
       "    <tr>\n",
       "      <th>2024-02-01 16:55:00</th>\n",
       "      <td>6.85628</td>\n",
       "      <td>6.85635</td>\n",
       "      <td>6.85520</td>\n",
       "      <td>6.85618</td>\n",
       "      <td>-0.000038</td>\n",
       "      <td>-0.000062</td>\n",
       "      <td>0</td>\n",
       "    </tr>\n",
       "    <tr>\n",
       "      <th>2024-02-01 17:00:00</th>\n",
       "      <td>6.85615</td>\n",
       "      <td>6.85615</td>\n",
       "      <td>6.85407</td>\n",
       "      <td>6.85416</td>\n",
       "      <td>-0.000295</td>\n",
       "      <td>-0.000009</td>\n",
       "      <td>0</td>\n",
       "    </tr>\n",
       "    <tr>\n",
       "      <th>2024-02-01 17:05:00</th>\n",
       "      <td>6.85450</td>\n",
       "      <td>6.85450</td>\n",
       "      <td>6.85416</td>\n",
       "      <td>6.85438</td>\n",
       "      <td>0.000032</td>\n",
       "      <td>-0.000031</td>\n",
       "      <td>0</td>\n",
       "    </tr>\n",
       "    <tr>\n",
       "      <th>2024-02-01 17:10:00</th>\n",
       "      <td>6.85438</td>\n",
       "      <td>6.85497</td>\n",
       "      <td>6.85424</td>\n",
       "      <td>6.85460</td>\n",
       "      <td>0.000032</td>\n",
       "      <td>-0.000059</td>\n",
       "      <td>0</td>\n",
       "    </tr>\n",
       "    <tr>\n",
       "      <th>2024-02-01 17:15:00</th>\n",
       "      <td>6.85461</td>\n",
       "      <td>6.85798</td>\n",
       "      <td>6.85435</td>\n",
       "      <td>6.85584</td>\n",
       "      <td>0.000181</td>\n",
       "      <td>0.000023</td>\n",
       "      <td>0</td>\n",
       "    </tr>\n",
       "  </tbody>\n",
       "</table>\n",
       "<p>6573 rows × 7 columns</p>\n",
       "</div>"
      ],
      "text/plain": [
       "                        Open     High      Low    Close   returns  dtw_pred  \\\n",
       "Time                                                                          \n",
       "2024-01-01 17:20:00  6.74681  6.74790  6.74681  6.74740  0.000080  0.000000   \n",
       "2024-01-01 17:25:00  6.74735  6.74791  6.74735  6.74783  0.000064  0.000000   \n",
       "2024-01-01 17:30:00  6.74753  6.74792  6.74751  6.74757 -0.000039  0.000000   \n",
       "2024-01-01 17:35:00  6.74757  6.74868  6.74743  6.74868  0.000164  0.000000   \n",
       "2024-01-01 17:40:00  6.74868  6.74904  6.74838  6.74853 -0.000022  0.000000   \n",
       "...                      ...      ...      ...      ...       ...       ...   \n",
       "2024-02-01 16:55:00  6.85628  6.85635  6.85520  6.85618 -0.000038 -0.000062   \n",
       "2024-02-01 17:00:00  6.85615  6.85615  6.85407  6.85416 -0.000295 -0.000009   \n",
       "2024-02-01 17:05:00  6.85450  6.85450  6.85416  6.85438  0.000032 -0.000031   \n",
       "2024-02-01 17:10:00  6.85438  6.85497  6.85424  6.85460  0.000032 -0.000059   \n",
       "2024-02-01 17:15:00  6.85461  6.85798  6.85435  6.85584  0.000181  0.000023   \n",
       "\n",
       "                     position  \n",
       "Time                           \n",
       "2024-01-01 17:20:00         0  \n",
       "2024-01-01 17:25:00         0  \n",
       "2024-01-01 17:30:00         0  \n",
       "2024-01-01 17:35:00         0  \n",
       "2024-01-01 17:40:00         0  \n",
       "...                       ...  \n",
       "2024-02-01 16:55:00         0  \n",
       "2024-02-01 17:00:00         0  \n",
       "2024-02-01 17:05:00         0  \n",
       "2024-02-01 17:10:00         0  \n",
       "2024-02-01 17:15:00         0  \n",
       "\n",
       "[6573 rows x 7 columns]"
      ]
     },
     "execution_count": 52,
     "metadata": {},
     "output_type": "execute_result"
    }
   ],
   "source": [
    "def strategy(df,  buy_threshold=0.0001, sell_threshold=-0.0001):\n",
    "    df[\"position\"] = 0  # 1 for long, -1 for short, 0 for neutral\n",
    "\n",
    "    for i in range(810, len(df) - 1):\n",
    "\n",
    "        # Determine position based on prediction\n",
    "        if df['dtw_pred'].iloc[i] > buy_threshold:\n",
    "            df.loc[df.index[i], 'position'] = 1\n",
    "\n",
    "        elif df['dtw_pred'].iloc[i] < sell_threshold:\n",
    "            df.loc[df.index[i], 'position'] = -1\n",
    "        else:\n",
    "            df.loc[df.index[i], 'position'] = 0\n",
    "\n",
    "\n",
    "    return df\n",
    "strategy(df)"
   ]
  },
  {
   "cell_type": "code",
   "execution_count": 53,
   "metadata": {},
   "outputs": [
    {
     "name": "stdout",
     "output_type": "stream",
     "text": [
      "Time\n",
      "2024-01-01 17:20:00    0\n",
      "2024-01-01 17:25:00    0\n",
      "2024-01-01 17:30:00    0\n",
      "2024-01-01 17:35:00    0\n",
      "2024-01-01 17:40:00    0\n",
      "                      ..\n",
      "2024-02-01 16:55:00    0\n",
      "2024-02-01 17:00:00    0\n",
      "2024-02-01 17:05:00    0\n",
      "2024-02-01 17:10:00    0\n",
      "2024-02-01 17:15:00    0\n",
      "Name: position, Length: 6573, dtype: int64\n"
     ]
    }
   ],
   "source": [
    "print(df[\"position\"])"
   ]
  },
  {
   "cell_type": "code",
   "execution_count": 54,
   "metadata": {},
   "outputs": [
    {
     "name": "stdout",
     "output_type": "stream",
     "text": [
      "                        Open     High      Low    Close   returns  \\\n",
      "Time                                                                \n",
      "2024-02-01 16:30:00  6.85666  6.85691  6.85605  6.85658 -0.000034   \n",
      "2024-02-01 16:35:00  6.85657  6.85657  6.85538  6.85631 -0.000039   \n",
      "2024-02-01 16:40:00  6.85630  6.85740  6.85614  6.85683  0.000076   \n",
      "2024-02-01 16:45:00  6.85671  6.85719  6.85618  6.85621 -0.000090   \n",
      "2024-02-01 16:50:00  6.85633  6.85661  6.85608  6.85644  0.000034   \n",
      "2024-02-01 16:55:00  6.85628  6.85635  6.85520  6.85618 -0.000038   \n",
      "2024-02-01 17:00:00  6.85615  6.85615  6.85407  6.85416 -0.000295   \n",
      "2024-02-01 17:05:00  6.85450  6.85450  6.85416  6.85438  0.000032   \n",
      "2024-02-01 17:10:00  6.85438  6.85497  6.85424  6.85460  0.000032   \n",
      "2024-02-01 17:15:00  6.85461  6.85798  6.85435  6.85584  0.000181   \n",
      "\n",
      "                         dtw_pred  position  \n",
      "Time                                         \n",
      "2024-02-01 16:30:00  1.032757e-05         0  \n",
      "2024-02-01 16:35:00 -2.589091e-05         0  \n",
      "2024-02-01 16:40:00  6.377119e-07         0  \n",
      "2024-02-01 16:45:00 -8.315584e-05         0  \n",
      "2024-02-01 16:50:00 -7.377824e-05         0  \n",
      "2024-02-01 16:55:00 -6.170745e-05         0  \n",
      "2024-02-01 17:00:00 -9.017993e-06         0  \n",
      "2024-02-01 17:05:00 -3.093343e-05         0  \n",
      "2024-02-01 17:10:00 -5.862139e-05         0  \n",
      "2024-02-01 17:15:00  2.334087e-05         0  \n"
     ]
    }
   ],
   "source": [
    "print(df.tail(10))"
   ]
  },
  {
   "cell_type": "code",
   "execution_count": 55,
   "metadata": {},
   "outputs": [],
   "source": [
    "import numpy as np\n",
    "\n",
    "def backtest(df, starting_balance, trade_risk):\n",
    "    df[\"balance\"] = np.nan\n",
    "    df.iloc[0, df.columns.get_loc(\"balance\")] = starting_balance  # Start at first row\n",
    "    df[\"trade_status\"] = 0\n",
    "    df[\"trade_size\"] = np.nan\n",
    "    df[\"trade_pnl\"] = np.nan\n",
    "    df[\"trade_success\"] = np.nan\n",
    "\n",
    "    long_trades = 0\n",
    "    short_trades = 0\n",
    "\n",
    "    for i in range(1, len(df)-1):  # Start from 1 since we need previous balance\n",
    "        df.iloc[i, df.columns.get_loc(\"balance\")] = df.iloc[i-1, df.columns.get_loc(\"balance\")]\n",
    "        \n",
    "        if df['position'].iloc[i] == 1:\n",
    "            df.iloc[i, df.columns.get_loc(\"trade_status\")] = 1\n",
    "            entry_price = df['Close'].iloc[i]\n",
    "            exit_price = df['Close'].iloc[i+1]\n",
    "            trade_size = df[\"balance\"].iloc[i-1] * trade_risk\n",
    "            df.iloc[i, df.columns.get_loc(\"trade_size\")] = trade_size\n",
    "            pnl = trade_size * (exit_price - entry_price) / entry_price\n",
    "            df.iloc[i, df.columns.get_loc(\"trade_pnl\")] = pnl\n",
    "            long_trades += 1\n",
    "            \n",
    "            df.iloc[i, df.columns.get_loc(\"trade_success\")] = 1 if pnl > 0 else 0\n",
    "            df.iloc[i, df.columns.get_loc(\"balance\")] += pnl\n",
    "\n",
    "        elif df['position'].iloc[i] == -1:\n",
    "            df.iloc[i, df.columns.get_loc(\"trade_status\")] = -1\n",
    "            entry_price = df['Close'].iloc[i]\n",
    "            exit_price = df['Close'].iloc[i+1]\n",
    "            trade_size = df[\"balance\"].iloc[i-1] * trade_risk\n",
    "            df.iloc[i, df.columns.get_loc(\"trade_size\")] = trade_size\n",
    "            pnl = trade_size * (entry_price - exit_price) / entry_price\n",
    "            df.iloc[i, df.columns.get_loc(\"trade_pnl\")] = pnl\n",
    "            short_trades += 1\n",
    "            \n",
    "            df.iloc[i, df.columns.get_loc(\"trade_success\")] = 1 if pnl > 0 else 0\n",
    "            df.iloc[i, df.columns.get_loc(\"balance\")] += pnl\n",
    "\n",
    "    total_trades = long_trades + short_trades\n",
    "    return df, long_trades, short_trades, total_trades\n",
    "\n",
    "# Assuming your dataframe is called 'df'\n",
    "result_df, longs, shorts, total = backtest(df, 100000, 0.02)"
   ]
  },
  {
   "cell_type": "code",
   "execution_count": 56,
   "metadata": {},
   "outputs": [
    {
     "name": "stdout",
     "output_type": "stream",
     "text": [
      "                        Open     High      Low    Close   returns  \\\n",
      "Time                                                                \n",
      "2024-02-01 16:30:00  6.85666  6.85691  6.85605  6.85658 -0.000034   \n",
      "2024-02-01 16:35:00  6.85657  6.85657  6.85538  6.85631 -0.000039   \n",
      "2024-02-01 16:40:00  6.85630  6.85740  6.85614  6.85683  0.000076   \n",
      "2024-02-01 16:45:00  6.85671  6.85719  6.85618  6.85621 -0.000090   \n",
      "2024-02-01 16:50:00  6.85633  6.85661  6.85608  6.85644  0.000034   \n",
      "2024-02-01 16:55:00  6.85628  6.85635  6.85520  6.85618 -0.000038   \n",
      "2024-02-01 17:00:00  6.85615  6.85615  6.85407  6.85416 -0.000295   \n",
      "2024-02-01 17:05:00  6.85450  6.85450  6.85416  6.85438  0.000032   \n",
      "2024-02-01 17:10:00  6.85438  6.85497  6.85424  6.85460  0.000032   \n",
      "2024-02-01 17:15:00  6.85461  6.85798  6.85435  6.85584  0.000181   \n",
      "\n",
      "                         dtw_pred  position       balance  trade_status  \\\n",
      "Time                                                                      \n",
      "2024-02-01 16:30:00  1.032757e-05         0  100000.59902             0   \n",
      "2024-02-01 16:35:00 -2.589091e-05         0  100000.59902             0   \n",
      "2024-02-01 16:40:00  6.377119e-07         0  100000.59902             0   \n",
      "2024-02-01 16:45:00 -8.315584e-05         0  100000.59902             0   \n",
      "2024-02-01 16:50:00 -7.377824e-05         0  100000.59902             0   \n",
      "2024-02-01 16:55:00 -6.170745e-05         0  100000.59902             0   \n",
      "2024-02-01 17:00:00 -9.017993e-06         0  100000.59902             0   \n",
      "2024-02-01 17:05:00 -3.093343e-05         0  100000.59902             0   \n",
      "2024-02-01 17:10:00 -5.862139e-05         0  100000.59902             0   \n",
      "2024-02-01 17:15:00  2.334087e-05         0           NaN             0   \n",
      "\n",
      "                     trade_size  trade_pnl  trade_success  \n",
      "Time                                                       \n",
      "2024-02-01 16:30:00         NaN        NaN            NaN  \n",
      "2024-02-01 16:35:00         NaN        NaN            NaN  \n",
      "2024-02-01 16:40:00         NaN        NaN            NaN  \n",
      "2024-02-01 16:45:00         NaN        NaN            NaN  \n",
      "2024-02-01 16:50:00         NaN        NaN            NaN  \n",
      "2024-02-01 16:55:00         NaN        NaN            NaN  \n",
      "2024-02-01 17:00:00         NaN        NaN            NaN  \n",
      "2024-02-01 17:05:00         NaN        NaN            NaN  \n",
      "2024-02-01 17:10:00         NaN        NaN            NaN  \n",
      "2024-02-01 17:15:00         NaN        NaN            NaN  \n"
     ]
    }
   ],
   "source": [
    "print(df.tail(10))\n"
   ]
  },
  {
   "cell_type": "code",
   "execution_count": 58,
   "metadata": {},
   "outputs": [
    {
     "name": "stdout",
     "output_type": "stream",
     "text": [
      "100062.49072349374\n",
      "100000.0\n",
      "Sharpe Ratio (Annualized): 0.0193\n",
      "Max Drawdown: -5.75%\n",
      "Total Trades: 996\n",
      "Long Trades: 562\n",
      "Short Trades: 434\n",
      "Win Rate: 48.49%\n",
      "Total Return: 0.06%\n",
      "NMAE: 1.073839\n"
     ]
    }
   ],
   "source": [
    "# Assume backtest has already run\n",
    "df, long_trades, short_trades, total_trades = backtest(df, 100000, 3)\n",
    "\n",
    "\n",
    "# Handle NaN explicitly\n",
    "df['trade_returns'] = df['trade_pnl'] / df['balance'].shift(1)\n",
    "df['trade_returns'] = df['trade_returns'].where(df['trade_pnl'].notna(), np.nan)\n",
    "mean_return = df['trade_returns'].dropna().mean()\n",
    "std_return = df['trade_returns'].dropna().std()\n",
    "sharpe_ratio = mean_return / std_return * np.sqrt(252)\n",
    "\n",
    "# Max Drawdown Calculation\n",
    "df['peak'] = df['balance'].cummax()\n",
    "df['drawdown'] = (df['balance'] - df['peak']) / df['peak']\n",
    "max_drawdown = df['drawdown'].min()\n",
    "\n",
    "# NMAE Calculation\n",
    "y_true = df[\"returns\"]\n",
    "y_pred = df[\"dtw_pred\"]\n",
    "nmae = np.mean(np.abs(y_true - y_pred)) / np.mean(np.abs(y_true))\n",
    "\n",
    "# Total Return\n",
    "total_return = (df['balance'].iloc[-2] / df['balance'].iloc[0]) - 1\n",
    "\n",
    "print(df['balance'].iloc[-2])\n",
    "print((df['balance'].iloc[0]))\n",
    "# Display Statistics\n",
    "print(f\"Sharpe Ratio (Annualized): {sharpe_ratio:.4f}\")\n",
    "print(f\"Max Drawdown: {max_drawdown * 100:.2f}%\")\n",
    "print(f\"Total Trades: {total_trades}\")\n",
    "print(f\"Long Trades: {long_trades}\")\n",
    "print(f\"Short Trades: {short_trades}\")\n",
    "print(f\"Win Rate: {(df['trade_success'].sum() / total_trades * 100):.2f}%\")\n",
    "print(f\"Total Return: {total_return * 100:.2f}%\")\n",
    "print(f\"NMAE: {nmae:.6f}\")\n"
   ]
  },
  {
   "cell_type": "code",
   "execution_count": 59,
   "metadata": {},
   "outputs": [
    {
     "data": {
      "image/png": "[encoded data removed]",
      "text/plain": [
       "<Figure size 1000x600 with 1 Axes>"
      ]
     },
     "metadata": {},
     "output_type": "display_data"
    },
    {
     "data": {
      "image/png": "[encoded data removed]",
      "text/plain": [
       "<Figure size 640x480 with 2 Axes>"
      ]
     },
     "metadata": {},
     "output_type": "display_data"
    }
   ],
   "source": [
    "initial_price = df.iloc[810]['Close']\n",
    "df['buy_and_hold'] = (df['Close'] / initial_price) * df['balance'].iloc[0]\n",
    "\n",
    "# Plotting\n",
    "plt.figure(figsize=(10, 6))\n",
    "\n",
    "# 1. Balance Over Time\n",
    "plt.subplot(3, 1, 1)\n",
    "plt.plot(df.index[810:], df.iloc[810:]['balance'], label='Account Balance', color='blue')\n",
    "plt.plot(df.index[810:], df.iloc[810:]['buy_and_hold'], label='Buy and Hold Balance', color='green', linestyle='--')\n",
    "plt.title('Account Balance and Buy & Hold Balance Over Time')\n",
    "plt.xlabel('Time')\n",
    "plt.ylabel('Balance ($)')\n",
    "plt.grid(True)\n",
    "plt.legend()\n",
    "\n",
    "plt.tight_layout()\n",
    "plt.show()\n",
    "\n",
    "# 2. Trade PnL\n",
    "plt.subplot(3, 1, 2)\n",
    "plt.scatter(df.index, df['trade_pnl'], \n",
    "           c=df['trade_success'].map({1: 'green', 0: 'red', np.nan: 'gray'}), \n",
    "           label='Trade PnL')\n",
    "plt.axhline(y=0, color='black', linestyle='--', alpha=0.3)\n",
    "plt.title('Trade Profit/Loss')\n",
    "plt.xlabel('Time')\n",
    "plt.ylabel('PnL ($)')\n",
    "plt.grid(True)\n",
    "plt.legend()\n",
    "\n",
    "# 3. Positions\n",
    "plt.subplot(3, 1, 3)\n",
    "plt.plot(df.index[810:], df.iloc[810:]['position'], label='Position', color='purple')\n",
    "plt.title('Trading Positions')\n",
    "plt.xlabel('Time')\n",
    "plt.ylabel('Position (-1=Short, 0=Neutral, 1=Long)')\n",
    "plt.grid(True)\n",
    "plt.legend()\n",
    "\n",
    "# Adjust layout and display\n",
    "plt.tight_layout()\n",
    "plt.show()"
   ]
  },
  {
   "cell_type": "code",
   "execution_count": null,
   "metadata": {},
   "outputs": [],
   "source": []
  }
 ],
 "metadata": {
  "kernelspec": {
   "display_name": "Python 3",
   "language": "python",
   "name": "python3"
  },
  "language_info": {
   "codemirror_mode": {
    "name": "ipython",
    "version": 3
   },
   "file_extension": ".py",
   "mimetype": "text/x-python",
   "name": "python",
   "nbconvert_exporter": "python",
   "pygments_lexer": "ipython3",
   "version": "3.9.10"
  }
 },
 "nbformat": 4,
 "nbformat_minor": 4
}
